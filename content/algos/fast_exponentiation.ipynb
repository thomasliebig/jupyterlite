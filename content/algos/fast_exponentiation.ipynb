{
  "metadata": {
    "language_info": {
      "codemirror_mode": {
        "name": "python",
        "version": 3
      },
      "file_extension": ".py",
      "mimetype": "text/x-python",
      "name": "python",
      "nbconvert_exporter": "python",
      "pygments_lexer": "ipython3",
      "version": "3.8"
    },
    "kernelspec": {
      "name": "python",
      "display_name": "Python (Pyodide)",
      "language": "python"
    }
  },
  "nbformat_minor": 4,
  "nbformat": 4,
  "cells": [
    {
      "cell_type": "code",
      "source": "def modpow(base, exponent, modulus):\n    result = 1\n    base = base % modulus\n    \n    while exponent > 0:\n        if exponent % 2 == 1:\n            result = (result * base) % modulus\n        \n        exponent = exponent >> 1\n        base = (base * base) % modulus\n    \n    return result",
      "metadata": {
        "trusted": true
      },
      "execution_count": 2,
      "outputs": []
    },
    {
      "cell_type": "code",
      "source": "modpow(110,107,127)",
      "metadata": {
        "trusted": true
      },
      "execution_count": 3,
      "outputs": [
        {
          "execution_count": 3,
          "output_type": "execute_result",
          "data": {
            "text/plain": "97"
          },
          "metadata": {}
        }
      ]
    }
  ]
}