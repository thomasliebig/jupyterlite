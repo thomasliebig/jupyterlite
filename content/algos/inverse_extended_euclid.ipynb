{
  "metadata": {
    "kernelspec": {
      "name": "python",
      "display_name": "Python (Pyodide)",
      "language": "python"
    },
    "language_info": {
      "codemirror_mode": {
        "name": "python",
        "version": 3
      },
      "file_extension": ".py",
      "mimetype": "text/x-python",
      "name": "python",
      "nbconvert_exporter": "python",
      "pygments_lexer": "ipython3",
      "version": "3.8"
    }
  },
  "nbformat_minor": 4,
  "nbformat": 4,
  "cells": [
    {
      "cell_type": "code",
      "source": "# Python program to demonstrate working of extended \n# Euclidean Algorithm \n     \ndef gcdExtended(a, b): \n    if a == 0 :  \n       return b,0,1\n             \n    gcd,x1,y1 = gcdExtended(b % a, a) \n     \n    x = y1 - (b//a) * x1 \n    y = x1 \n     \n    return gcd,x,y\n      ",
      "metadata": {
        "trusted": true
      },
      "execution_count": null,
      "outputs": []
    },
    {
      "cell_type": "code",
      "source": "a, b = 5,48\ng, x, y = gcdExtended(a, b) \nif g==1:\n    print(\"gcdE(\", a , \",\" , b, \") = \", x) ",
      "metadata": {
        "trusted": true
      },
      "execution_count": 6,
      "outputs": [
        {
          "name": "stdout",
          "text": "gcdE( 5 , 48 ) =  -19\n",
          "output_type": "stream"
        }
      ]
    },
    {
      "cell_type": "code",
      "source": "",
      "metadata": {},
      "execution_count": null,
      "outputs": []
    }
  ]
}