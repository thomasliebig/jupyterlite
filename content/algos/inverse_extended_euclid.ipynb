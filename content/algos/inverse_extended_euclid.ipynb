{
 "cells": [
  {
   "cell_type": "code",
   "execution_count": 11,
   "metadata": {},
   "outputs": [],
   "source": [
    "# Python program to demonstrate working of extended \n",
    "# Euclidean Algorithm \n",
    "     \n",
    "def gcdExtended(a, b): \n",
    "    if a == 0 :  \n",
    "       return b,0,1\n",
    "             \n",
    "    gcd,x1,y1 = gcdExtended(b % a, a) \n",
    "     \n",
    "    x = y1 - (b//a) * x1 \n",
    "    y = x1 \n",
    "     \n",
    "    return gcd,x,y\n",
    "      "
   ]
  },
  {
   "cell_type": "code",
   "execution_count": 18,
   "metadata": {},
   "outputs": [
    {
     "name": "stdout",
     "output_type": "stream",
     "text": [
      "gcdE( 48 , 25 ) =  -23\n"
     ]
    }
   ],
   "source": [
    "a, b = 48,25\n",
    "g, x, y = gcdExtended(a, b) \n",
    "if g==1:\n",
    "    print(\"gcdE(\", a , \",\" , b, \") = \", y) "
   ]
  }
 ],
 "metadata": {
  "kernelspec": {
   "display_name": "Python 3",
   "language": "python",
   "name": "python3"
  },
  "language_info": {
   "codemirror_mode": {
    "name": "ipython",
    "version": 3
   },
   "file_extension": ".py",
   "mimetype": "text/x-python",
   "name": "python",
   "nbconvert_exporter": "python",
   "pygments_lexer": "ipython3",
   "version": "3.7.6"
  }
 },
 "nbformat": 4,
 "nbformat_minor": 4
}
