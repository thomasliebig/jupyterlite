{
  "metadata": {
    "language_info": {
      "codemirror_mode": {
        "name": "python",
        "version": 3
      },
      "file_extension": ".py",
      "mimetype": "text/x-python",
      "name": "python",
      "nbconvert_exporter": "python",
      "pygments_lexer": "ipython3",
      "version": "3.8"
    },
    "kernelspec": {
      "name": "python",
      "display_name": "Python (Pyodide)",
      "language": "python"
    }
  },
  "nbformat_minor": 4,
  "nbformat": 4,
  "cells": [
    {
      "cell_type": "markdown",
      "source": "# Understanding the Paillier Cryptosystem\n\n2023, Thomas Liebig\n[Compare my previous notes (German)](https://www-ai.cs.tu-dortmund.de/LEHRE/FACHPROJEKT/WS1516/download/paillier.pdf)",
      "metadata": {}
    },
    {
      "cell_type": "markdown",
      "source": "## Key Generation",
      "metadata": {}
    },
    {
      "cell_type": "code",
      "source": "p=5\nq=3",
      "metadata": {
        "trusted": true
      },
      "execution_count": 1,
      "outputs": []
    },
    {
      "cell_type": "code",
      "source": "import math\n\nn=p*q\nphi=(p-1)*(q-1) # Eulers Phi\ng=n+1           # Common choice of g\n\nlambda1=math.lcm(p-1,q-1) # Carmichael number",
      "metadata": {
        "trusted": true
      },
      "execution_count": 2,
      "outputs": []
    },
    {
      "cell_type": "markdown",
      "source": "## Encryption\n$$\n\\begin{aligned}\n\\mathcal{E}_g: \\mathbb{Z}_n \\times \\mathbb{Z}_n^* & \\rightarrow \\mathbb{Z}_{n^2}^* \\\\\n\\mathcal{E}_g(x, y) & \\rightarrow g^x \\cdot y^n \\bmod n^2 \\\\\n\\mathcal{E}_g(m, r) & \\rightarrow g^m \\cdot r^n \\bmod n^2\n\\end{aligned}\n$$\n\n## Decryption\n$$m=L(c^\\lambda mod n^2)* L^{-1}(g^\\lambda \\text{mod} n^2)$$\nmit $L(x)=(x-1)/n$",
      "metadata": {}
    },
    {
      "cell_type": "code",
      "source": "import numpy as np\nfrom math import gcd\n\nA = np.zeros((phi, n))\n\nj = 0\n\nnames=[]\n\nfor i in range(phi):\n    j += 1\n    while gcd(j, n) != 1:\n        j += 1\n    names.append(j)\n    for m in range(n):\n        A[i, m] = (pow(g, m, pow(n, 2)) * pow(j, n, pow(n, 2))) % pow(n, 2)\n",
      "metadata": {
        "trusted": true
      },
      "execution_count": 3,
      "outputs": []
    },
    {
      "cell_type": "code",
      "source": "def printMatrix(s,names):\n\n    # Do heading\n    print(\"     \", end=\"\")\n    for j in range(len(s[0])):\n        print(\"%5d \" % j, end=\"\")\n    print()\n    print(\"     \", end=\"\")\n    for j in range(len(s[0])):\n        print(\"------\", end=\"\")\n    print()\n    # Matrix contents\n    for i in range(len(s)):\n        print(\"%3d |\" % (names[i]), end=\"\") # Row nums\n        for j in range(len(s[0])):\n            print(\"%5d \" % (s[i][j]), end=\"\")\n        print()  \n",
      "metadata": {
        "tags": [],
        "trusted": true
      },
      "execution_count": 4,
      "outputs": []
    },
    {
      "cell_type": "markdown",
      "source": "### Inspect matrix of all ciphertexts A",
      "metadata": {}
    },
    {
      "cell_type": "code",
      "source": "printMatrix(A,names)",
      "metadata": {
        "tags": [],
        "trusted": true
      },
      "execution_count": 5,
      "outputs": [
        {
          "name": "stdout",
          "text": "         0     1     2     3     4     5     6     7     8     9    10    11    12    13    14 \n     ------------------------------------------------------------------------------------------\n  1 |    1    16    31    46    61    76    91   106   121   136   151   166   181   196   211 \n  2 |  143    38   158    53   173    68   188    83   203    98   218   113     8   128    23 \n  4 |  199    34    94   154   214    49   109   169     4    64   124   184    19    79   139 \n  7 |  118    88    58    28   223   193   163   133   103    73    43    13   208   178   148 \n  8 |  107   137   167   197     2    32    62    92   122   152   182   212    17    47    77 \n 11 |   26   191   131    71    11   176   116    56   221   161   101    41   206   146    86 \n 13 |   82   187    67   172    52   157    37   142    22   127     7   112   217    97   202 \n 14 |  224   209   194   179   164   149   134   119   104    89    74    59    44    29    14 \n",
          "output_type": "stream"
        }
      ]
    },
    {
      "cell_type": "markdown",
      "source": "Observe the homomorphic property: Take two numbers from two columns $a$ and $b$, multiply these number and observe that their product is in the column $a+b$.",
      "metadata": {}
    },
    {
      "cell_type": "markdown",
      "source": "### Inspect Decryption Steps I: Inspect matrix $A^\\lambda$",
      "metadata": {}
    },
    {
      "cell_type": "code",
      "source": "A_l=np.empty(A.shape)\nfor i in range(0,A.shape[0]):\n        for j in range(0,A.shape[1]):\n            A_l[i][j]=pow(int(A[i,j]),lambda1,pow(n, 2))\nprintMatrix(A_l,names)",
      "metadata": {
        "tags": [],
        "trusted": true
      },
      "execution_count": 6,
      "outputs": [
        {
          "name": "stdout",
          "text": "         0     1     2     3     4     5     6     7     8     9    10    11    12    13    14 \n     ------------------------------------------------------------------------------------------\n  1 |    1    61   121   181    16    76   136   196    31    91   151   211    46   106   166 \n  2 |    1    61   121   181    16    76   136   196    31    91   151   211    46   106   166 \n  4 |    1    61   121   181    16    76   136   196    31    91   151   211    46   106   166 \n  7 |    1    61   121   181    16    76   136   196    31    91   151   211    46   106   166 \n  8 |    1    61   121   181    16    76   136   196    31    91   151   211    46   106   166 \n 11 |    1    61   121   181    16    76   136   196    31    91   151   211    46   106   166 \n 13 |    1    61   121   181    16    76   136   196    31    91   151   211    46   106   166 \n 14 |    1    61   121   181    16    76   136   196    31    91   151   211    46   106   166 \n",
          "output_type": "stream"
        }
      ]
    },
    {
      "cell_type": "markdown",
      "source": "### Inspect Decryption Steps II: Inspect matrix $L(A^\\lambda)\\text{ mod }n^2$",
      "metadata": {}
    },
    {
      "cell_type": "code",
      "source": "A_l=np.empty(A.shape)\nfor i in range(0,A.shape[0]):\n        for j in range(0,A.shape[1]):\n            A_l[i][j]=(pow(int(A[i,j]),lambda1,pow(n, 2))-1)/n\nprintMatrix(A_l,names)",
      "metadata": {
        "trusted": true
      },
      "execution_count": 7,
      "outputs": [
        {
          "name": "stdout",
          "text": "         0     1     2     3     4     5     6     7     8     9    10    11    12    13    14 \n     ------------------------------------------------------------------------------------------\n  1 |    0     4     8    12     1     5     9    13     2     6    10    14     3     7    11 \n  2 |    0     4     8    12     1     5     9    13     2     6    10    14     3     7    11 \n  4 |    0     4     8    12     1     5     9    13     2     6    10    14     3     7    11 \n  7 |    0     4     8    12     1     5     9    13     2     6    10    14     3     7    11 \n  8 |    0     4     8    12     1     5     9    13     2     6    10    14     3     7    11 \n 11 |    0     4     8    12     1     5     9    13     2     6    10    14     3     7    11 \n 13 |    0     4     8    12     1     5     9    13     2     6    10    14     3     7    11 \n 14 |    0     4     8    12     1     5     9    13     2     6    10    14     3     7    11 \n",
          "output_type": "stream"
        }
      ]
    },
    {
      "cell_type": "code",
      "source": "def gcdExtended(a, b): \n    if a == 0 :  \n       return b,0,1\n             \n    gcd,x1,y1 = gcdExtended(b % a, a) \n     \n    x = y1 - (b//a) * x1 \n    y = x1 \n     \n    return gcd,x,y\n",
      "metadata": {
        "jupyter": {
          "source_hidden": true
        },
        "tags": [],
        "trusted": true
      },
      "execution_count": 8,
      "outputs": []
    },
    {
      "cell_type": "markdown",
      "source": "### Inspect Decryption Steps III: Inspect matrix $L(A^\\lambda)/L(g^\\lambda)\\text{ mod }n$",
      "metadata": {}
    },
    {
      "cell_type": "code",
      "source": "Lg = (pow(g,lambda1,pow(n,2))-1)/n\nLg_inv = (gcdExtended(Lg,n)[1]+n) % n\n\n#((modpower(A,lambda,n^2)-1)/n) * Lg_inv) %% n\n\nA_i=np.empty(A.shape)\nfor i in range(0,A.shape[0]):\n        for j in range(0,A.shape[1]):\n            A_i[i][j]=(((pow(int(A[i,j]),lambda1,pow(n, 2))-1)/n) * Lg_inv ) % n\nprintMatrix(A_i,names)",
      "metadata": {
        "trusted": true
      },
      "execution_count": 9,
      "outputs": [
        {
          "name": "stdout",
          "text": "         0     1     2     3     4     5     6     7     8     9    10    11    12    13    14 \n     ------------------------------------------------------------------------------------------\n  1 |    0     1     2     3     4     5     6     7     8     9    10    11    12    13    14 \n  2 |    0     1     2     3     4     5     6     7     8     9    10    11    12    13    14 \n  4 |    0     1     2     3     4     5     6     7     8     9    10    11    12    13    14 \n  7 |    0     1     2     3     4     5     6     7     8     9    10    11    12    13    14 \n  8 |    0     1     2     3     4     5     6     7     8     9    10    11    12    13    14 \n 11 |    0     1     2     3     4     5     6     7     8     9    10    11    12    13    14 \n 13 |    0     1     2     3     4     5     6     7     8     9    10    11    12    13    14 \n 14 |    0     1     2     3     4     5     6     7     8     9    10    11    12    13    14 \n",
          "output_type": "stream"
        }
      ]
    }
  ]
}
