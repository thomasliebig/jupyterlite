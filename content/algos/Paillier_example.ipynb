{
  "metadata": {
    "language_info": {
      "codemirror_mode": {
        "name": "python",
        "version": 3
      },
      "file_extension": ".py",
      "mimetype": "text/x-python",
      "name": "python",
      "nbconvert_exporter": "python",
      "pygments_lexer": "ipython3",
      "version": "3.8"
    },
    "kernelspec": {
      "name": "python",
      "display_name": "Python (Pyodide)",
      "language": "python"
    }
  },
  "nbformat_minor": 4,
  "nbformat": 4,
  "cells": [
    {
      "cell_type": "markdown",
      "source": "# Paillier\n\nhttps://www-ai.cs.tu-dortmund.de/LEHRE/FACHPROJEKT/WS1516/download/paillier.pdf",
      "metadata": {}
    },
    {
      "cell_type": "code",
      "source": "p=3\nq=5",
      "metadata": {
        "trusted": true
      },
      "execution_count": 11,
      "outputs": []
    },
    {
      "cell_type": "code",
      "source": "n=p*q\nphi=(p-1)*(q-1)\ng=n+1\n\nimport math\n\nlambda1=math.lcm(p-1,q-1)",
      "metadata": {
        "trusted": true
      },
      "execution_count": 12,
      "outputs": []
    },
    {
      "cell_type": "code",
      "source": "g",
      "metadata": {
        "trusted": true
      },
      "execution_count": 13,
      "outputs": [
        {
          "execution_count": 13,
          "output_type": "execute_result",
          "data": {
            "text/plain": "16"
          },
          "metadata": {}
        }
      ]
    },
    {
      "cell_type": "code",
      "source": "import numpy as np\nfrom math import gcd\n\nA = np.zeros((phi, n))\n\nj = 0\nfor i in range(phi):\n    j += 1\n    while gcd(j, n) != 1:\n        j += 1\n    for m in range(n):\n        A[i, m] = (pow(g, m, pow(n, 2)) * pow(j, n, pow(n, 2))) % pow(n, 2)\n",
      "metadata": {
        "trusted": true
      },
      "execution_count": 14,
      "outputs": []
    },
    {
      "cell_type": "code",
      "source": "def printMatrix(s):\n\n    # Do heading\n    print(\"     \", end=\"\")\n    for j in range(len(s[0])):\n        print(\"%5d \" % j, end=\"\")\n    print()\n    print(\"     \", end=\"\")\n    for j in range(len(s[0])):\n        print(\"------\", end=\"\")\n    print()\n    # Matrix contents\n    for i in range(len(s)):\n        print(\"%3d |\" % (i), end=\"\") # Row nums\n        for j in range(len(s[0])):\n            print(\"%5d \" % (s[i][j]), end=\"\")\n        print()  \n",
      "metadata": {
        "tags": [],
        "jupyter": {
          "source_hidden": true
        },
        "trusted": true
      },
      "execution_count": 15,
      "outputs": []
    },
    {
      "cell_type": "markdown",
      "source": "Inspect A",
      "metadata": {}
    },
    {
      "cell_type": "code",
      "source": "printMatrix(A)",
      "metadata": {
        "trusted": true
      },
      "execution_count": 16,
      "outputs": [
        {
          "name": "stdout",
          "text": "         0     1     2     3     4     5     6     7     8     9    10    11    12    13    14 \n     ------------------------------------------------------------------------------------------\n  0 |    1    16    31    46    61    76    91   106   121   136   151   166   181   196   211 \n  1 |  143    38   158    53   173    68   188    83   203    98   218   113     8   128    23 \n  2 |  199    34    94   154   214    49   109   169     4    64   124   184    19    79   139 \n  3 |  118    88    58    28   223   193   163   133   103    73    43    13   208   178   148 \n  4 |  107   137   167   197     2    32    62    92   122   152   182   212    17    47    77 \n  5 |   26   191   131    71    11   176   116    56   221   161   101    41   206   146    86 \n  6 |   82   187    67   172    52   157    37   142    22   127     7   112   217    97   202 \n  7 |  224   209   194   179   164   149   134   119   104    89    74    59    44    29    14 \n",
          "output_type": "stream"
        }
      ]
    },
    {
      "cell_type": "code",
      "source": "A_l=np.empty(A.shape)\nfor i in range(0,A.shape[0]):\n        for j in range(0,A.shape[1]):\n            A_l[i][j]=pow(int(A[i,j]),lambda1,pow(n, 2))\nprintMatrix(A_l)",
      "metadata": {
        "trusted": true
      },
      "execution_count": 17,
      "outputs": [
        {
          "name": "stdout",
          "text": "         0     1     2     3     4     5     6     7     8     9    10    11    12    13    14 \n     ------------------------------------------------------------------------------------------\n  0 |    1    61   121   181    16    76   136   196    31    91   151   211    46   106   166 \n  1 |    1    61   121   181    16    76   136   196    31    91   151   211    46   106   166 \n  2 |    1    61   121   181    16    76   136   196    31    91   151   211    46   106   166 \n  3 |    1    61   121   181    16    76   136   196    31    91   151   211    46   106   166 \n  4 |    1    61   121   181    16    76   136   196    31    91   151   211    46   106   166 \n  5 |    1    61   121   181    16    76   136   196    31    91   151   211    46   106   166 \n  6 |    1    61   121   181    16    76   136   196    31    91   151   211    46   106   166 \n  7 |    1    61   121   181    16    76   136   196    31    91   151   211    46   106   166 \n",
          "output_type": "stream"
        }
      ]
    },
    {
      "cell_type": "code",
      "source": "A_l=np.empty(A.shape)\nfor i in range(0,A.shape[0]):\n        for j in range(0,A.shape[1]):\n            A_l[i][j]=(pow(int(A[i,j]),lambda1,pow(n, 2))-1)/n\nprintMatrix(A_l)",
      "metadata": {
        "trusted": true
      },
      "execution_count": 18,
      "outputs": [
        {
          "name": "stdout",
          "text": "         0     1     2     3     4     5     6     7     8     9    10    11    12    13    14 \n     ------------------------------------------------------------------------------------------\n  0 |    0     4     8    12     1     5     9    13     2     6    10    14     3     7    11 \n  1 |    0     4     8    12     1     5     9    13     2     6    10    14     3     7    11 \n  2 |    0     4     8    12     1     5     9    13     2     6    10    14     3     7    11 \n  3 |    0     4     8    12     1     5     9    13     2     6    10    14     3     7    11 \n  4 |    0     4     8    12     1     5     9    13     2     6    10    14     3     7    11 \n  5 |    0     4     8    12     1     5     9    13     2     6    10    14     3     7    11 \n  6 |    0     4     8    12     1     5     9    13     2     6    10    14     3     7    11 \n  7 |    0     4     8    12     1     5     9    13     2     6    10    14     3     7    11 \n",
          "output_type": "stream"
        }
      ]
    },
    {
      "cell_type": "code",
      "source": "def gcdExtended(a, b): \n    if a == 0 :  \n       return b,0,1\n             \n    gcd,x1,y1 = gcdExtended(b % a, a) \n     \n    x = y1 - (b//a) * x1 \n    y = x1 \n     \n    return gcd,x,y\n",
      "metadata": {
        "trusted": true
      },
      "execution_count": 19,
      "outputs": []
    },
    {
      "cell_type": "code",
      "source": "Lg = (pow(g,lambda1,pow(n,2))-1)/n\nLg_inv = (gcdExtended(Lg,n)[1]+n) % n\n\n#((modpower(A,lambda,n^2)-1)/n) * Lg_inv) %% n\n\nA_i=np.empty(A.shape)\nfor i in range(0,A.shape[0]):\n        for j in range(0,A.shape[1]):\n            A_i[i][j]=(((pow(int(A[i,j]),lambda1,pow(n, 2))-1)/n) * Lg_inv ) % n\nprintMatrix(A_i)",
      "metadata": {
        "trusted": true
      },
      "execution_count": 20,
      "outputs": [
        {
          "name": "stdout",
          "text": "         0     1     2     3     4     5     6     7     8     9    10    11    12    13    14 \n     ------------------------------------------------------------------------------------------\n  0 |    0     1     2     3     4     5     6     7     8     9    10    11    12    13    14 \n  1 |    0     1     2     3     4     5     6     7     8     9    10    11    12    13    14 \n  2 |    0     1     2     3     4     5     6     7     8     9    10    11    12    13    14 \n  3 |    0     1     2     3     4     5     6     7     8     9    10    11    12    13    14 \n  4 |    0     1     2     3     4     5     6     7     8     9    10    11    12    13    14 \n  5 |    0     1     2     3     4     5     6     7     8     9    10    11    12    13    14 \n  6 |    0     1     2     3     4     5     6     7     8     9    10    11    12    13    14 \n  7 |    0     1     2     3     4     5     6     7     8     9    10    11    12    13    14 \n",
          "output_type": "stream"
        }
      ]
    }
  ]
}