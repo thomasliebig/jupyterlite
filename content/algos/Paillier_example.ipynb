{
  "metadata": {
    "language_info": {
      "codemirror_mode": {
        "name": "python",
        "version": 3
      },
      "file_extension": ".py",
      "mimetype": "text/x-python",
      "name": "python",
      "nbconvert_exporter": "python",
      "pygments_lexer": "ipython3",
      "version": "3.8"
    },
    "kernelspec": {
      "name": "python",
      "display_name": "Python (Pyodide)",
      "language": "python"
    }
  },
  "nbformat_minor": 4,
  "nbformat": 4,
  "cells": [
    {
      "cell_type": "markdown",
      "source": "# Understanding the Paillier Cryptosystem\n\n2023, Thomas Liebig\n[Compare my previous notes (German)](https://www-ai.cs.tu-dortmund.de/LEHRE/FACHPROJEKT/WS1516/download/paillier.pdf)",
      "metadata": {}
    },
    {
      "cell_type": "markdown",
      "source": "## Key Generation",
      "metadata": {}
    },
    {
      "cell_type": "code",
      "source": "# chose two primes\np=3\nq=5",
      "metadata": {
        "trusted": true
      },
      "execution_count": 1,
      "outputs": []
    },
    {
      "cell_type": "code",
      "source": "import math\nimport random\n\nn=p*q \nphi=(p-1)*(q-1) # Eulers Phi\nlambda1=math.lcm(p-1,q-1) # Carmichael number\ng=random.randrange(n ** 2)\ng_s=g\nwhile True:\n    g=(g+1) % (n ** 2)    # pick g randomly, note this is not i.i.d but allows us to test whether we tried all \n    if g==g_s:            # we tested all elements of the ring n^2\n        raise ValueError('g can not not be found for p and q')\n    if (math.gcd(g,n ** 2)==1) and (math.gcd(int((pow(g, lambda1) % (n ** 2) -1)/n),n)==1):\n        # g is co-prime to n^2, and\n        # L(g^lambda1) is co-prime to n , with L(x):=(x-1)/n (compare Decryption below)\n        break\n",
      "metadata": {
        "trusted": true
      },
      "execution_count": 2,
      "outputs": []
    },
    {
      "cell_type": "markdown",
      "source": "## Encryption\n$$\n\\begin{aligned}\n\\mathcal{E}_g: \\mathbb{Z}_n \\times \\mathbb{Z}_n^* & \\rightarrow \\mathbb{Z}_{n^2}^* \\\\\n\\mathcal{E}_g(x, y) & \\rightarrow g^x \\cdot y^n \\bmod n^2 \\\\\n\\mathcal{E}_g(m, r) & \\rightarrow g^m \\cdot r^n \\bmod n^2\n\\end{aligned}\n$$\n\n## Decryption\n$$m=L(c^\\lambda mod n^2)* L^{-1}(g^\\lambda \\text{mod} n^2)$$\nmit $L(x)=(x-1)/n$",
      "metadata": {}
    },
    {
      "cell_type": "code",
      "source": "import numpy as np\nfrom math import gcd\n\nA = np.zeros((phi, n))\n\nj = 1\n\nnames=[]\n\nfor i in range(phi):\n    while gcd(j, n) != 1:\n        j += 1\n    names.append(j)\n    for m in range(n):\n        A[i, m] = (pow(g, m, pow(n, 2)) * pow(j, n, pow(n, 2))) % pow(n, 2)\n    j += 1\n",
      "metadata": {
        "trusted": true
      },
      "execution_count": 3,
      "outputs": []
    },
    {
      "cell_type": "code",
      "source": "def printMatrix(s,names):\n\n    # Do heading\n    print(\"     \", end=\"\")\n    for j in range(len(s[0])):\n        print(\"%5d \" % j, end=\"\")\n    print()\n    print(\"     \", end=\"\")\n    for j in range(len(s[0])):\n        print(\"------\", end=\"\")\n    print()\n    # Matrix contents\n    for i in range(len(s)):\n        print(\"%3d |\" % (names[i]), end=\"\") # Row nums\n        for j in range(len(s[0])):\n            print(\"%5d \" % (s[i][j]), end=\"\")\n        print()  \n",
      "metadata": {
        "tags": [],
        "trusted": true
      },
      "execution_count": 4,
      "outputs": []
    },
    {
      "cell_type": "markdown",
      "source": "### Inspect matrix of all ciphertexts A",
      "metadata": {}
    },
    {
      "cell_type": "code",
      "source": "printMatrix(A,names)",
      "metadata": {
        "tags": [],
        "trusted": true
      },
      "execution_count": 5,
      "outputs": [
        {
          "name": "stdout",
          "text": "         0     1     2     3     4     5     6     7     8     9    10    11    12    13    14 \n     ------------------------------------------------------------------------------------------\n  1 |    1    29   166    89   106   149    46   209   211    44   151   104    91   164    31 \n  2 |  143    97   113   127    83   157    53   187    23   217   218    22   188    52   158 \n  4 |  199   146   184   161   169   176   154   191   139   206   124   221   109    11    94 \n  7 |  118    47    13   152   133    32    28   137   148    17    43   122   163     2    58 \n  8 |  107   178   212    73    92   193   197    88    77   208   182   103    62   223   167 \n 11 |   26    79    41    64    56    49    71    34    86    19   101     4   116   214   131 \n 13 |   82   128   112    98   142    68   172    38   202     8     7   203    37   173    67 \n 14 |  224   196    59   136   119    76   179    16    14   181    74   121   134    61   194 \n",
          "output_type": "stream"
        }
      ]
    },
    {
      "cell_type": "markdown",
      "source": "Observe the homomorphic property: Take two numbers from two columns $a$ and $b$, multiply these number and observe that their product is in the column $a+b$.",
      "metadata": {}
    },
    {
      "cell_type": "markdown",
      "source": "### Inspect Decryption Steps I: Inspect matrix $A^\\lambda$",
      "metadata": {}
    },
    {
      "cell_type": "code",
      "source": "A_l=np.empty(A.shape)\nfor i in range(0,A.shape[0]):\n        for j in range(0,A.shape[1]):\n            A_l[i][j]=pow(int(A[i,j]),lambda1,pow(n, 2))\nprintMatrix(A_l,names)",
      "metadata": {
        "tags": [],
        "trusted": true
      },
      "execution_count": 6,
      "outputs": [
        {
          "name": "stdout",
          "text": "         0     1     2     3     4     5     6     7     8     9    10    11    12    13    14 \n     ------------------------------------------------------------------------------------------\n  1 |    1   106   211    91   196    76   181    61   166    46   151    31   136    16   121 \n  2 |    1   106   211    91   196    76   181    61   166    46   151    31   136    16   121 \n  4 |    1   106   211    91   196    76   181    61   166    46   151    31   136    16   121 \n  7 |    1   106   211    91   196    76   181    61   166    46   151    31   136    16   121 \n  8 |    1   106   211    91   196    76   181    61   166    46   151    31   136    16   121 \n 11 |    1   106   211    91   196    76   181    61   166    46   151    31   136    16   121 \n 13 |    1   106   211    91   196    76   181    61   166    46   151    31   136    16   121 \n 14 |    1   106   211    91   196    76   181    61   166    46   151    31   136    16   121 \n",
          "output_type": "stream"
        }
      ]
    },
    {
      "cell_type": "markdown",
      "source": "### Inspect Decryption Steps II: Inspect matrix $L(A^\\lambda)\\text{ mod }n^2$",
      "metadata": {}
    },
    {
      "cell_type": "code",
      "source": "A_l=np.empty(A.shape)\nfor i in range(0,A.shape[0]):\n        for j in range(0,A.shape[1]):\n            A_l[i][j]=(pow(int(A[i,j]),lambda1,pow(n, 2))-1)/n\nprintMatrix(A_l,names)",
      "metadata": {
        "trusted": true
      },
      "execution_count": 7,
      "outputs": [
        {
          "name": "stdout",
          "text": "         0     1     2     3     4     5     6     7     8     9    10    11    12    13    14 \n     ------------------------------------------------------------------------------------------\n  1 |    0     7    14     6    13     5    12     4    11     3    10     2     9     1     8 \n  2 |    0     7    14     6    13     5    12     4    11     3    10     2     9     1     8 \n  4 |    0     7    14     6    13     5    12     4    11     3    10     2     9     1     8 \n  7 |    0     7    14     6    13     5    12     4    11     3    10     2     9     1     8 \n  8 |    0     7    14     6    13     5    12     4    11     3    10     2     9     1     8 \n 11 |    0     7    14     6    13     5    12     4    11     3    10     2     9     1     8 \n 13 |    0     7    14     6    13     5    12     4    11     3    10     2     9     1     8 \n 14 |    0     7    14     6    13     5    12     4    11     3    10     2     9     1     8 \n",
          "output_type": "stream"
        }
      ]
    },
    {
      "cell_type": "code",
      "source": "def gcdExtended(a, b): \n    if a == 0 :  \n       return b,0,1\n             \n    gcd,x1,y1 = gcdExtended(b % a, a) \n     \n    x = y1 - (b//a) * x1 \n    y = x1 \n     \n    return gcd,x,y\n",
      "metadata": {
        "jupyter": {
          "source_hidden": true
        },
        "tags": [],
        "trusted": true
      },
      "execution_count": 8,
      "outputs": []
    },
    {
      "cell_type": "markdown",
      "source": "### Inspect Decryption Steps III: Inspect matrix $L(A^\\lambda)/L(g^\\lambda)\\text{ mod }n$",
      "metadata": {}
    },
    {
      "cell_type": "code",
      "source": "Lg = (pow(g,lambda1,pow(n,2))-1)/n\nLg_inv = (gcdExtended(Lg,n)[1]+n) % n\n\n#((modpower(A,lambda,n^2)-1)/n) * Lg_inv) %% n\n\nA_i=np.empty(A.shape)\nfor i in range(0,A.shape[0]):\n        for j in range(0,A.shape[1]):\n            A_i[i][j]=(((pow(int(A[i,j]),lambda1,pow(n, 2))-1)/n) * Lg_inv ) % n\nprintMatrix(A_i,names)",
      "metadata": {
        "trusted": true
      },
      "execution_count": 9,
      "outputs": [
        {
          "name": "stdout",
          "text": "         0     1     2     3     4     5     6     7     8     9    10    11    12    13    14 \n     ------------------------------------------------------------------------------------------\n  1 |    0     1     2     3     4     5     6     7     8     9    10    11    12    13    14 \n  2 |    0     1     2     3     4     5     6     7     8     9    10    11    12    13    14 \n  4 |    0     1     2     3     4     5     6     7     8     9    10    11    12    13    14 \n  7 |    0     1     2     3     4     5     6     7     8     9    10    11    12    13    14 \n  8 |    0     1     2     3     4     5     6     7     8     9    10    11    12    13    14 \n 11 |    0     1     2     3     4     5     6     7     8     9    10    11    12    13    14 \n 13 |    0     1     2     3     4     5     6     7     8     9    10    11    12    13    14 \n 14 |    0     1     2     3     4     5     6     7     8     9    10    11    12    13    14 \n",
          "output_type": "stream"
        }
      ]
    }
  ]
}