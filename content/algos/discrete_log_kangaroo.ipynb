{
 "cells": [
  {
   "cell_type": "code",
   "execution_count": 3,
   "metadata": {},
   "outputs": [
    {
     "name": "stdout",
     "output_type": "stream",
     "text": [
      "trap at\n",
      "1 48\n"
     ]
    }
   ],
   "source": [
    "# tame kangaroo\n",
    "import math\n",
    "import random\n",
    "\n",
    "a = 3\n",
    "b = 5\n",
    "m = 17\n",
    "\n",
    "# a^x=b mod m\n",
    "\n",
    "n = math.floor(math.sqrt(m - 1)) + 1\n",
    "\n",
    "c = math.floor(m/2);\n",
    "\n",
    "f=[random.randrange(1,m-1) for p in range(0, m)]\n",
    "\n",
    "x= pow(a,0,m)\n",
    "d=0\n",
    "\n",
    "for i in range(n+1):\n",
    "    #print(x,d)\n",
    "    #print(f[x])\n",
    "    d=d+f[x]\n",
    "    x=(x* (a ** f[x])) % m\n",
    "print(\"trap at\")\n",
    "print(x,d)\n",
    "\n",
    "xn=x\n",
    "dn=d\n",
    "\n"
   ]
  },
  {
   "cell_type": "code",
   "execution_count": 4,
   "metadata": {},
   "outputs": [
    {
     "data": {
      "text/plain": [
       "[2, 10, 1, 7, 5, 15, 6, 10, 6, 3, 5, 6, 3, 9, 11, 14, 15]"
      ]
     },
     "execution_count": 4,
     "metadata": {},
     "output_type": "execute_result"
    }
   ],
   "source": [
    "f"
   ]
  },
  {
   "cell_type": "code",
   "execution_count": 5,
   "metadata": {},
   "outputs": [
    {
     "name": "stdout",
     "output_type": "stream",
     "text": [
      "1 27\n",
      "5\n"
     ]
    }
   ],
   "source": [
    "# wild kangaroo\n",
    "import math\n",
    "import random\n",
    "\n",
    "x= b\n",
    "d=0\n",
    "\n",
    "for i in range(n+1):\n",
    "    #print(x,d)\n",
    "    d=d+f[x]\n",
    "    x=(x* (a ** f[x])) % m\n",
    "    if x == xn:\n",
    "        print(x,d)\n",
    "        #print(pow(a,(m-1)+(dn-d),g))\n",
    "        x=(m-1+(dn-d)) % (m-1)\n",
    "        break\n",
    "print(x)\n"
   ]
  },
  {
   "cell_type": "code",
   "execution_count": 7,
   "metadata": {},
   "outputs": [
    {
     "data": {
      "text/plain": [
       "True"
      ]
     },
     "execution_count": 7,
     "metadata": {},
     "output_type": "execute_result"
    }
   ],
   "source": [
    "pow(a,5,m) == b"
   ]
  }
 ],
 "metadata": {
  "kernelspec": {
   "display_name": "Python 3",
   "language": "python",
   "name": "python3"
  },
  "language_info": {
   "codemirror_mode": {
    "name": "ipython",
    "version": 3
   },
   "file_extension": ".py",
   "mimetype": "text/x-python",
   "name": "python",
   "nbconvert_exporter": "python",
   "pygments_lexer": "ipython3",
   "version": "3.7.6"
  }
 },
 "nbformat": 4,
 "nbformat_minor": 4
}
