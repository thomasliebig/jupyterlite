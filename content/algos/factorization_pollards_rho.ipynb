{
 "cells": [
  {
   "cell_type": "code",
   "execution_count": null,
   "metadata": {
    "vscode": {
     "languageId": "r"
    }
   },
   "outputs": [
    {
     "name": "stdout",
     "output_type": "stream",
     "text": [
      "1 3\n",
      "1 2\n",
      "2 23\n",
      "12 1697\n"
     ]
    }
   ],
   "source": [
    "n =  234186\n",
    "#n = 1238926361552897 * 93461639715357977769163558199606896584051237541638188580280321\n",
    "#n = 1230186684530117755130494958384962720772853569595334792197322452151726400507263657518745202199786469389956474942774063845925192557326303453731548268507917026122142913461670429214311602221240479274737794080665351419597459856902143413\n",
    "import math\n",
    "\n",
    "x=2\n",
    "y=2\n",
    "\n",
    "while n>1:\n",
    "    step=0\n",
    "    r=1\n",
    "    # factorization using pollards rho\n",
    "    while r==1: \n",
    "        step+=1\n",
    "        x= pow(x,2)+1 \n",
    "        x= x % n\n",
    "\n",
    "        y= pow(y,2)+1 \n",
    "        y= pow(y,2)+1 \n",
    "        y= y % n\n",
    "        r=math.gcd(abs(x-y),n)\n",
    "#        r=gcd(abs(x-y),n)\n",
    "    print(step,r)\n",
    "    n=n // r # remove factor, and continue\n",
    "\n",
    "    "
   ]
  },
  {
   "cell_type": "code",
   "execution_count": null,
   "metadata": {
    "vscode": {
     "languageId": "r"
    }
   },
   "outputs": [],
   "source": []
  }
 ],
 "metadata": {
  "kernelspec": {
   "display_name": "R",
   "language": "R",
   "name": "ir"
  },
  "language_info": {
   "codemirror_mode": {
    "name": "ipython",
    "version": 3
   },
   "file_extension": ".py",
   "mimetype": "text/x-python",
   "name": "R",
   "nbconvert_exporter": "python",
   "pygments_lexer": "ipython3",
   "version": "3.7.6"
  }
 },
 "nbformat": 4,
 "nbformat_minor": 4
}
