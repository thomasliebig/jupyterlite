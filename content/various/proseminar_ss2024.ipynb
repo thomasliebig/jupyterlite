{
  "metadata": {
    "language_info": {
      "codemirror_mode": {
        "name": "python",
        "version": 3
      },
      "file_extension": ".py",
      "mimetype": "text/x-python",
      "name": "python",
      "nbconvert_exporter": "python",
      "pygments_lexer": "ipython3",
      "version": "3.8"
    },
    "kernelspec": {
      "name": "python",
      "display_name": "Python (Pyodide)",
      "language": "python"
    }
  },
  "nbformat_minor": 4,
  "nbformat": 4,
  "cells": [
    {
      "cell_type": "markdown",
      "source": "# Ausgewählte Themen der Ultrametrischen Datenanalyse\n\nIn diesem Kurs tauchen wir in die faszinierende Welt der p-adischen Zahlen ein, ein Zahlensystem, das sich deutlich von den vertrauten reellen Zahlen unterscheidet. Ursprünglich aus den Arbeiten von Kurt Hensel zu Beginn des 20. Jahrhunderts stammend, sind p-adische Zahlen seitdem ein Eckpfeiler in der Zahlentheorie geworden und finden Anwendungen in Bereichen wie Kryptografie, Quantenmechanik und Stringtheorie.\nGemeinsam erkunden wir das faszinierende Reich der p-adischen Zahlen. Im Gegensatz zu reellen Zahlen verwenden p-adische Zahlen eine p-adische Bewertung, was zu einer anderen Topologie führt, in der Nähe durch Teilbarkeit durch Potenzen einer Primzahl p definiert ist, was zur Folge hat, dass jedes Dreieck im p-adischen Raum gleichschenklig ist. Dieses System ist in seinem eigenen Sinne vollständig, mit Sequenzen, die sich anders als reelle Zahlen konvergieren. P-adische Zahlen weisen auch Ultrametrik auf, wo jeder Punkt in einer Kugel deren Mittelpunkt sein kann, und jede Kugel sowohl offen als auch geschlossen ist, was ihre völlig unzusammenhängende Natur im Gegensatz zu kontinuierlichen reellen Intervallen widerspiegelt. Dieses Rahmenwerk führt zur p-adischen Analyse, einem Parallelgebiet zur reellen und komplexen Analyse, aber unter den einzigartigen Eigenschaften der p-adischen Bewertung. Dieses Proseminar zielt darauf ab, diese faszinierenden Eigenschaften der p-adischen Zahlen einzuführen und ihre potenziellen Anwendungen in der Datenanalyse hervorzuheben.\n\nDas Proseminar wird in Form eines \"Diskussionsseminars\" abgehalten. Dabei treffen sich alle Seminarteilnehmende zweiwöchentlich zu einer Sitzung, bei der nach einer kurzen Einleitung ein bestimmter Themenbereich frei diskutiert wird. Zu jeder Sitzung sind entsprechende Paper durchzuarbeiten, die vorher bekanntgemacht werden. Jeder Seminarteilnehmer bereitet im Laufe des Semesters eine Kurzpräsentation (~20 min) zu einem der Paper vor, und moderiert anschließend die Diskussion zum Themenbereich.  Die Abschlussnote für das Proseminar bewertet die Qualität der Diskussionsbeiträge, die Kurzpräsentation sowie eine kurze schriftliche Ausarbeitung, die am Ende des Seminars anzufertigen ist.",
      "metadata": {}
    },
    {
      "cell_type": "markdown",
      "source": "<details>\n    <summary>English version</summary>\n<h2>The p-adics for Data Scientists</h2>\n\nIn this course, we delve into the intriguing world of p-adic numbers, a number system that diverges significantly from the familiar real numbers. Originating from the work of Kurt Hensel in the early 20th century, p-adic numbers have since become a cornerstone in number theory and have applications in areas such as cryptography, quantum mechanics, and string theory.\nTogether, we explore the fascinating realm of p-adic numbers. Unlike real numbers, p-adic numbers employ a p-adic valuation, leading to a different topology where closeness is defined by divisibility by powers of a prime p, resulting in every triangle being isosceles in the p-adic world. This system is complete in its own sense, with sequences converging differently from real numbers. P-adic numbers also exhibit ultrametricity, where any point in a ball can be its center, and each ball is both open and closed, reflecting their totally disconnected nature unlike continuous real intervals. This framework leads to p-adic analysis, a parallel to real and complex analysis, but under the unique properties of p-adic valuation. This proseminar aims to introduce these intriguing properties of p-adic numbers, highlighting their potential applications in data analysis.\n\n    The proseminar is held in the form of a \"discussion seminar\". In this, all seminar participants meet biweekly for a session, during which a specific topic area is freely discussed after a brief introduction. For each session, corresponding papers are to be worked through, which will be announced beforehand. Each seminar participant prepares a short presentation (~20 minutes) on one of the papers over the course of the semester, and then moderates the discussion on the topic area. The final grade for the proseminar assesses the quality of the discussion contributions, the short presentation, as well as a brief written paper that is to be completed at the end of the seminar.\n</details>",
      "metadata": {
        "tags": []
      }
    },
    {
      "cell_type": "code",
      "source": "import micropip\nawait micropip.install('ipywidgets')\nfrom IPython.display import IFrame\n\nIFrame(src=\"https://www.youtube.com/embed/tRaq4aYPzCc\", width='100%', height='500px')",
      "metadata": {
        "trusted": true
      },
      "execution_count": 3,
      "outputs": [
        {
          "execution_count": 3,
          "output_type": "execute_result",
          "data": {
            "text/plain": "<IPython.lib.display.IFrame at 0x308ec10>",
            "text/html": "\n        <iframe\n            width=\"100%\"\n            height=\"500px\"\n            src=\"https://www.youtube.com/embed/tRaq4aYPzCc\"\n            frameborder=\"0\"\n            allowfullscreen\n            \n        ></iframe>\n        "
          },
          "metadata": {}
        }
      ]
    }
  ]
}