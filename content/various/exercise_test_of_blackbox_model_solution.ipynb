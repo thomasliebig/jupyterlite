{
  "metadata": {
    "language_info": {
      "codemirror_mode": {
        "name": "python",
        "version": 3
      },
      "file_extension": ".py",
      "mimetype": "text/x-python",
      "name": "python",
      "nbconvert_exporter": "python",
      "pygments_lexer": "ipython3",
      "version": "3.8"
    },
    "kernelspec": {
      "name": "python",
      "display_name": "Python (Pyodide)",
      "language": "python"
    }
  },
  "nbformat_minor": 4,
  "nbformat": 4,
  "cells": [
    {
      "cell_type": "markdown",
      "source": "# Exercise: Test of blackbox AI algorithm\n Thomas Liebig, 2023",
      "metadata": {}
    },
    {
      "cell_type": "markdown",
      "source": "## Recall two-sided tests\nIn the lecture you've learned statistical tests as a method to perform test of AI algorithms. In terms of testing a blackbox model, the distribution of the expected output must be compared to actual output of the blackbox model. Thus, two probaily distributions need to be compared.\nThe Kolmogorov-Smirnov (KS) is one possibility to perform such a test. Below you find details for comparing two distributions with the KS-test. ",
      "metadata": {}
    },
    {
      "cell_type": "code",
      "source": "from scipy.stats import ks_2samp\n\nfrom numpy.random import seed\nfrom numpy.random import randn\nfrom numpy.random import lognormal\n\n# reproducible distributions\nseed(0)\n\n# generate two distributions\ndist1 = randn(100)\ndist2 = lognormal(3, 1, 100)\n\np=ks_2samp(dist1, dist2)[1]\nalpha=.05\n\nif (p<alpha):\n    print('null hypothesis rejected: both samples not from the same distribution.')\nelse:\n    print('null hypothesis accepted: both samples likely from the same distribution.')",
      "metadata": {
        "trusted": true
      },
      "execution_count": 24,
      "outputs": [
        {
          "name": "stdout",
          "text": "null hypothesis rejected: both samples not from the same distribution.\n",
          "output_type": "stream"
        }
      ]
    },
    {
      "cell_type": "markdown",
      "source": "## Task Description\nSuppose an unknown supervised model `model_foo` is given as $f:\\mathbb{R}^5\\rightarrow \\mathbb{R}^2$. ",
      "metadata": {}
    },
    {
      "cell_type": "code",
      "source": "import numpy as np\nimport types\nimport marshal\n\n# construct the secret function\ncode_string= bytes([227,   1,   0,   0,   0,   0,   0,   0,   0,   0,   0,   0,   0,   8,   0,   0,   0,   8,   0,   0,   0,  67,   0,   0,\n                      0, 243, 168,   0,   0,   0, 116,   0, 160,   1, 103,   0, 100,   1, 162,   1, 103,   0, 100,   2, 162,   1, 103,   0,\n                    100,   3, 162,   1, 103,   0, 100,   4, 162,   1, 103,   0, 100,   5, 162,   1, 103,   5, 161,   1, 125,   1, 116,   0,\n                    160,   2, 103,   0, 100,   6, 162,   1, 161,   1, 125,   2, 116,   0, 160,   3, 124,   0, 124,   1, 161,   2, 124,   2,\n                    107,   4, 100,   7,  20,   0, 125,   3, 116,   0, 160,   1, 103,   0, 100,   8, 162,   1, 103,   0, 100,   9, 162,   1,\n                    103,   0, 100,  10, 162,   1, 103,   0, 100,  11, 162,   1, 103,   4, 161,   1, 125,   4, 116,   0, 160,   2, 103,   0,\n                    100,  12, 162,   1, 161,   1, 125,   5, 116,   0, 160,   2, 103,   0, 100,  13, 162,   1, 161,   1, 125,   6, 116,   0,\n                    160,   3, 124,   3, 124,   4, 161,   2, 124,   5, 107,   2, 100,   7,  20,   0, 125,   7, 116,   0, 160,   3, 124,   7,\n                    124,   6, 161,   2,  83,   0, 169,  14,  78,  41,   4, 233,   0,   0,   0,   0, 114,   3,   0,   0,   0, 233, 255, 255,\n                    255, 255, 114,   3,   0,   0,   0,  41,   4, 114,   3,   0,   0,   0, 233,   1,   0,   0,   0, 114,   3,   0,   0,   0,\n                    114,   3,   0,   0,   0,  41,   4, 114,   5,   0,   0,   0, 114,   3,   0,   0,   0, 114,   3,   0,   0,   0, 114,   3,\n                      0,   0,   0,  41,   4, 114,   3,   0,   0,   0, 114,   3,   0,   0,   0, 114,   3,   0,   0,   0, 114,   5,   0,   0,\n                      0,  41,   4, 114,   3,   0,   0,   0, 114,   3,   0,   0,   0, 114,   3,   0,   0,   0, 114,   3,   0,   0,   0,  41,\n                      4, 233,   3,   0,   0,   0, 233,   5,   0,   0,   0, 103,  51,  51,  51,  51,  51,  51, 243, 191, 114,   6,   0,   0,\n                      0, 114,   5,   0,   0,   0,  41,   5, 114,   5,   0,   0,   0, 114,   5,   0,   0,   0, 114,   5,   0,   0,   0, 114,\n                      4,   0,   0,   0, 114,   4,   0,   0,   0,  41,   5, 114,   5,   0,   0,   0, 114,   4,   0,   0,   0, 114,   4,   0,\n                      0,   0, 114,   3,   0,   0,   0, 114,   3,   0,   0,   0,  41,   5, 114,   3,   0,   0,   0, 114,   3,   0,   0,   0,\n                    114,   3,   0,   0,   0, 114,   5,   0,   0,   0, 114,   4,   0,   0,   0,  41,   5, 114,   3,   0,   0,   0, 114,   5,\n                      0,   0,   0, 114,   4,   0,   0,   0, 114,   3,   0,   0,   0, 114,   3,   0,   0,   0,  41,   5, 233,   2,   0,   0,\n                      0, 114,   8,   0,   0,   0, 114,   5,   0,   0,   0, 114,   5,   0,   0,   0, 114,   3,   0,   0,   0,  41,   5, 233,\n                     10,   0,   0,   0, 233,  40,   0,   0,   0, 233,  50,   0,   0,   0, 233,  30,   0,   0,   0, 233,  20,   0,   0,   0,\n                    169,   4, 218,   2, 110, 112, 218,   6, 109,  97, 116, 114, 105, 120, 218,   5,  97, 114, 114,  97, 121, 218,   6, 109,\n                     97, 116, 109, 117, 108, 169,   8, 218,   1,  88, 218,   1,  65, 218,   1,  66, 218,  10, 105, 110, 112, 117, 116,  95,\n                    112,  97, 116, 104, 218,   1,  67, 218,   1,  68, 218,   1,  69, 218,  11, 111, 117, 116, 112, 117, 116,  95, 112,  97,\n                    116, 104, 169,   0, 114,  28,   0,   0,   0, 250,  30,  60, 105, 112, 121, 116, 104, 111, 110,  45, 105, 110, 112, 117,\n                    116,  45,  54,  45,  54,  49,  57,  54, 102,  98,  50,  49,  53,  50, 101,  57,  62, 218,   9, 109, 111, 100, 101, 108,\n                     95, 102, 111, 111,   1,   0,   0,   0, 243,  16,   0,   0,   0,  40,   1,  14,   1,  20,   1,  34,   1,  14,   1,  14,\n                      1,  20,   1,  12,   1])\n\ncode = marshal.loads(code_string)\nmodel_foo=types.FunctionType(code, globals(), \"model_foo\")\n\n# define two points in feature space\nD = np.matrix([[1.5,2,3.5,5,4],[1.5,2,3,1,4]])\n# apply\nmodel_foo(D)",
      "metadata": {
        "trusted": true
      },
      "execution_count": 146,
      "outputs": [
        {
          "execution_count": 146,
          "output_type": "execute_result",
          "data": {
            "text/plain": "matrix([[40, 20]])"
          },
          "metadata": {}
        }
      ]
    },
    {
      "cell_type": "markdown",
      "source": "## Tasks\n\n* draw random samples from feature space and observe the behaviour of the output\n* generate hypothesis for the black box function\n* test your hypothesis",
      "metadata": {}
    },
    {
      "cell_type": "markdown",
      "source": "# Solution",
      "metadata": {}
    },
    {
      "cell_type": "code",
      "source": "# sample data in R^5\ndim=5\nn=1000 # numbr of training samples\nX=(np.random.rand(n,dim)-np.random.rand(n,dim))*70\nY=np.asarray(np.transpose(model_foo(X)))",
      "metadata": {
        "trusted": true
      },
      "execution_count": 139,
      "outputs": []
    },
    {
      "cell_type": "markdown",
      "source": "Hypothesis: it is a Decision Tree\n\n### train surrogate model",
      "metadata": {}
    },
    {
      "cell_type": "code",
      "source": "import pandas as pd\nfrom sklearn.tree import DecisionTreeClassifier\nfrom sklearn import tree\n\nmodel_dt = DecisionTreeClassifier()\n\n# Train Decision Tree Classifer\nmodel_dt = model_dt.fit(X,Y)\n\n# plot tree\nprint(\"Decision Tree\")\nprint(tree.export_text(model_dt))",
      "metadata": {
        "trusted": true
      },
      "execution_count": 140,
      "outputs": [
        {
          "name": "stdout",
          "text": "Decision Tree\n|--- feature_2 <= 3.03\n|   |--- feature_0 <= 1.24\n|   |   |--- class: 30\n|   |--- feature_0 >  1.24\n|   |   |--- class: 20\n|--- feature_2 >  3.03\n|   |--- feature_1 <= 4.98\n|   |   |--- feature_3 <= 2.69\n|   |   |   |--- class: 50\n|   |   |--- feature_3 >  2.69\n|   |   |   |--- class: 40\n|   |--- feature_1 >  4.98\n|   |   |--- class: 10\n\n",
          "output_type": "stream"
        }
      ]
    },
    {
      "cell_type": "markdown",
      "source": "### Compare Hypothesis",
      "metadata": {}
    },
    {
      "cell_type": "code",
      "source": "from numpy.random import seed\nfrom scipy.stats import ks_2samp\n\n# reproducible distributions\nseed(0)\n\n# sample data in R^5\ndim=5\nn=10000 # number of test samples\nX=(np.random.rand(n,dim)-np.random.rand(n,dim))*70\n\n# apply models\ndist1=np.squeeze(np.asarray(model_foo(X))) # blackbox model\ndist2=(np.array(model_dt.predict(X))) # test model\n\n# KS test\np=ks_2samp(dist1, dist2)[1]\nalpha=.05\n\nprint('p-value = '+str(p))\n\nif (p<alpha):\n    print('null hypothesis rejected: both samples not from the same distribution.')\nelse:\n    print('null hypothesis accepted: both samples likely from the same distribution.')",
      "metadata": {
        "trusted": true
      },
      "execution_count": 127,
      "outputs": [
        {
          "name": "stdout",
          "text": "p-value = 1.0\nnull hypothesis accepted: both samples likely from the same distribution.\n",
          "output_type": "stream"
        }
      ]
    },
    {
      "cell_type": "markdown",
      "source": "### Code inspection\n\n#### Disassembly",
      "metadata": {}
    },
    {
      "cell_type": "code",
      "source": "import dis\nprint(dis.dis(model_foo.__code__))",
      "metadata": {
        "trusted": true
      },
      "execution_count": 13,
      "outputs": [
        {
          "name": "stdout",
          "text": "  2           0 LOAD_GLOBAL              0 (np)\n              2 LOAD_METHOD              1 (matrix)\n              4 BUILD_LIST               0\n              6 LOAD_CONST               1 ((0, 0, -1, 0))\n              8 LIST_EXTEND              1\n             10 BUILD_LIST               0\n             12 LOAD_CONST               2 ((0, 1, 0, 0))\n             14 LIST_EXTEND              1\n             16 BUILD_LIST               0\n             18 LOAD_CONST               3 ((1, 0, 0, 0))\n             20 LIST_EXTEND              1\n             22 BUILD_LIST               0\n             24 LOAD_CONST               4 ((0, 0, 0, 1))\n             26 LIST_EXTEND              1\n             28 BUILD_LIST               0\n             30 LOAD_CONST               5 ((0, 0, 0, 0))\n             32 LIST_EXTEND              1\n             34 BUILD_LIST               5\n             36 CALL_METHOD              1\n             38 STORE_FAST               1 (A)\n\n  3          40 LOAD_GLOBAL              0 (np)\n             42 LOAD_METHOD              2 (array)\n             44 BUILD_LIST               0\n             46 LOAD_CONST               6 ((3, 5, -1.2, 3))\n             48 LIST_EXTEND              1\n             50 CALL_METHOD              1\n             52 STORE_FAST               2 (B)\n\n  4          54 LOAD_GLOBAL              0 (np)\n             56 LOAD_METHOD              3 (matmul)\n             58 LOAD_FAST                0 (X)\n             60 LOAD_FAST                1 (A)\n             62 CALL_METHOD              2\n             64 LOAD_FAST                2 (B)\n             66 COMPARE_OP               4 (>)\n             68 LOAD_CONST               7 (1)\n             70 BINARY_MULTIPLY\n             72 STORE_FAST               3 (input_path)\n\n  5          74 LOAD_GLOBAL              0 (np)\n             76 LOAD_METHOD              1 (matrix)\n             78 BUILD_LIST               0\n             80 LOAD_CONST               8 ((1, 1, 1, -1, -1))\n             82 LIST_EXTEND              1\n             84 BUILD_LIST               0\n             86 LOAD_CONST               9 ((1, -1, -1, 0, 0))\n             88 LIST_EXTEND              1\n             90 BUILD_LIST               0\n             92 LOAD_CONST              10 ((0, 0, 0, 1, -1))\n             94 LIST_EXTEND              1\n             96 BUILD_LIST               0\n             98 LOAD_CONST              11 ((0, 1, -1, 0, 0))\n            100 LIST_EXTEND              1\n            102 BUILD_LIST               4\n            104 CALL_METHOD              1\n            106 STORE_FAST               4 (C)\n\n  6         108 LOAD_GLOBAL              0 (np)\n            110 LOAD_METHOD              2 (array)\n            112 BUILD_LIST               0\n            114 LOAD_CONST              12 ((2, 2, 1, 1, 0))\n            116 LIST_EXTEND              1\n            118 CALL_METHOD              1\n            120 STORE_FAST               5 (D)\n\n  7         122 LOAD_GLOBAL              0 (np)\n            124 LOAD_METHOD              2 (array)\n            126 BUILD_LIST               0\n            128 LOAD_CONST              13 ((10, 40, 50, 30, 20))\n            130 LIST_EXTEND              1\n            132 CALL_METHOD              1\n            134 STORE_FAST               6 (E)\n\n  8         136 LOAD_GLOBAL              0 (np)\n            138 LOAD_METHOD              3 (matmul)\n            140 LOAD_FAST                3 (input_path)\n            142 LOAD_FAST                4 (C)\n            144 CALL_METHOD              2\n            146 LOAD_FAST                5 (D)\n            148 COMPARE_OP               2 (==)\n            150 LOAD_CONST               7 (1)\n            152 BINARY_MULTIPLY\n            154 STORE_FAST               7 (output_path)\n\n  9         156 LOAD_GLOBAL              0 (np)\n            158 LOAD_METHOD              3 (matmul)\n            160 LOAD_FAST                7 (output_path)\n            162 LOAD_FAST                6 (E)\n            164 CALL_METHOD              2\n            166 RETURN_VALUE\nNone\n",
          "output_type": "stream"
        }
      ]
    },
    {
      "cell_type": "markdown",
      "source": "#### Decompile\n\n*Note* following code doesn't work in jupyterlite as decompyle3 is not available\n```python\nimport decompyle3\ncode=marshal.loads(code_string)\ndecompyle3.code_deparse(code)\n```\nwould lead to this output\n```\nA = np.matrix([[0, 0, -1, 0], [0, 1, 0, 0], [1, 0, 0, 0], [0, 0, 0, 1], [0, 0, 0, 0]])\nB = np.array([3, 5, -1.2, 3])\ninput_path = (np.matmul(X, A) > B) * 1\nC = np.matrix([[1,1,1,-1,-1], [1,-1,-1,0,0], [0,0,0,1,-1], [0,1,-1,0,0]])\nD = np.array([2,2,1,1,0])\nE = np.array([10,40,50,30,20])\noutput_path = (np.matmul(input_path, C) == D) * 1\nreturn np.matmul(output_path, E)\n```",
      "metadata": {}
    },
    {
      "cell_type": "code",
      "source": "# compare original sourcecode: model_foo\n\nimport numpy\n\ndef model_foo(X):\n    A=np.matrix([[0,0,-1,0],[0,1,0,0],[1,0,0,0],[0,0,0,1],[0,0,0,0]])\n    B=np.array([3,5,-1.2,3])\n    input_path = (np.matmul(X,A)>B)*1\n    C=np.matrix([[1,1,1,-1,-1],[1,-1,-1,0,0],[0,0,0,1,-1],[0,1,-1,0,0]])\n    D=np.array([2,2,1,1,0])\n    E=np.array([10,40,50,30,20])\n    output_path=(np.matmul(input_path,C)==D)*1\n    return np.matmul(output_path,E)\n",
      "metadata": {},
      "execution_count": null,
      "outputs": []
    },
    {
      "cell_type": "markdown",
      "source": "### Understanding this Decision Tree Implementation\n\n* this is the matrix notation of a decision tree, proposed in the [hummingbird paper](https://web.eecs.umich.edu/~mosharaf/Readings/Hummingbird.pdf)\n  <div class=\"alert alert-block alert-info\"> Nakandala, S., Saur, K., Yu, G. I., Karanasos, K., Curino, C., Weimer, M., & Interlandi, M. (2020, November). A tensor compiler for unified machine learning prediction serving. In Proceedings of the 14th USENIX Conference on Operating Systems Design and Implementation (pp. 899-917).</div>\n* compare the github sources https://github.com/microsoft/hummingbird",
      "metadata": {}
    },
    {
      "cell_type": "code",
      "source": "",
      "metadata": {},
      "execution_count": null,
      "outputs": []
    }
  ]
}
