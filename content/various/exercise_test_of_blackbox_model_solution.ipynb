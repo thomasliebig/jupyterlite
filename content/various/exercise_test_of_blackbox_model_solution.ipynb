{
 "cells": [
  {
   "cell_type": "markdown",
   "metadata": {},
   "source": [
    "# Exercise: Test of blackbox AI algorithm\n",
    " Thomas Liebig, 2023"
   ]
  },
  {
   "cell_type": "markdown",
   "metadata": {},
   "source": [
    "## Recall two-sided tests\n",
    "In the lecture you've learned statistical tests as a method to perform test of AI algorithms. In terms of testing a blackbox model, the distribution of the expected output must be compared to actual output of the blackbox model. Thus, two probaily distributions need to be compared.\n",
    "The Kolmogorov-Smirnov (KS) is one possibility to perform such a test. Below you find details for comparing two distributions with the KS-test. "
   ]
  },
  {
   "cell_type": "code",
   "execution_count": 1,
   "metadata": {},
   "outputs": [
    {
     "name": "stdout",
     "output_type": "stream",
     "text": [
      "null hypothesis rejected: both samples not from the same distribution.\n"
     ]
    }
   ],
   "source": [
    "from scipy.stats import ks_2samp\n",
    "\n",
    "from numpy.random import seed\n",
    "from numpy.random import randn\n",
    "from numpy.random import lognormal\n",
    "\n",
    "# reproducible distributions\n",
    "seed(0)\n",
    "\n",
    "# generate two distributions\n",
    "dist1 = randn(100)\n",
    "dist2 = lognormal(3, 1, 100)\n",
    "\n",
    "p=ks_2samp(dist1, dist2)[1]\n",
    "alpha=.05\n",
    "\n",
    "if (p<alpha):\n",
    "    print('null hypothesis rejected: both samples not from the same distribution.')\n",
    "else:\n",
    "    print('null hypothesis accepted: both samples likely from the same distribution.')"
   ]
  },
  {
   "cell_type": "markdown",
   "metadata": {},
   "source": [
    "## Task Description\n",
    "Suppose an unknown supervised model `model_foo` is given as $f:\\mathbb{R}^5\\rightarrow \\mathbb{R}^2$. "
   ]
  },
  {
   "cell_type": "code",
   "execution_count": 10,
   "metadata": {},
   "outputs": [
    {
     "data": {
      "text/plain": [
       "matrix([[40, 20]])"
      ]
     },
     "execution_count": 10,
     "metadata": {},
     "output_type": "execute_result"
    }
   ],
   "source": [
    "import numpy as np\n",
    "import types\n",
    "import marshal\n",
    "\n",
    "# construct the secret function\n",
    "code_string= bytes([227,   1,   0,   0,   0,   0,   0,   0,   0,   0,   0,   0,   0,   8,   0,   0,   0,   8,   0,   0,   0,  67,   0,   0,\n",
    "                      0, 243, 168,   0,   0,   0, 116,   0, 160,   1, 103,   0, 100,   1, 162,   1, 103,   0, 100,   2, 162,   1, 103,   0,\n",
    "                    100,   3, 162,   1, 103,   0, 100,   4, 162,   1, 103,   0, 100,   5, 162,   1, 103,   5, 161,   1, 125,   1, 116,   0,\n",
    "                    160,   2, 103,   0, 100,   6, 162,   1, 161,   1, 125,   2, 116,   0, 160,   3, 124,   0, 124,   1, 161,   2, 124,   2,\n",
    "                    107,   4, 100,   7,  20,   0, 125,   3, 116,   0, 160,   1, 103,   0, 100,   8, 162,   1, 103,   0, 100,   9, 162,   1,\n",
    "                    103,   0, 100,  10, 162,   1, 103,   0, 100,  11, 162,   1, 103,   4, 161,   1, 125,   4, 116,   0, 160,   2, 103,   0,\n",
    "                    100,  12, 162,   1, 161,   1, 125,   5, 116,   0, 160,   2, 103,   0, 100,  13, 162,   1, 161,   1, 125,   6, 116,   0,\n",
    "                    160,   3, 124,   3, 124,   4, 161,   2, 124,   5, 107,   2, 100,   7,  20,   0, 125,   7, 116,   0, 160,   3, 124,   7,\n",
    "                    124,   6, 161,   2,  83,   0, 169,  14,  78,  41,   4, 233,   0,   0,   0,   0, 114,   3,   0,   0,   0, 233, 255, 255,\n",
    "                    255, 255, 114,   3,   0,   0,   0,  41,   4, 114,   3,   0,   0,   0, 233,   1,   0,   0,   0, 114,   3,   0,   0,   0,\n",
    "                    114,   3,   0,   0,   0,  41,   4, 114,   5,   0,   0,   0, 114,   3,   0,   0,   0, 114,   3,   0,   0,   0, 114,   3,\n",
    "                      0,   0,   0,  41,   4, 114,   3,   0,   0,   0, 114,   3,   0,   0,   0, 114,   3,   0,   0,   0, 114,   5,   0,   0,\n",
    "                      0,  41,   4, 114,   3,   0,   0,   0, 114,   3,   0,   0,   0, 114,   3,   0,   0,   0, 114,   3,   0,   0,   0,  41,\n",
    "                      4, 233,   3,   0,   0,   0, 233,   5,   0,   0,   0, 103,  51,  51,  51,  51,  51,  51, 243, 191, 114,   6,   0,   0,\n",
    "                      0, 114,   5,   0,   0,   0,  41,   5, 114,   5,   0,   0,   0, 114,   5,   0,   0,   0, 114,   5,   0,   0,   0, 114,\n",
    "                      4,   0,   0,   0, 114,   4,   0,   0,   0,  41,   5, 114,   5,   0,   0,   0, 114,   4,   0,   0,   0, 114,   4,   0,\n",
    "                      0,   0, 114,   3,   0,   0,   0, 114,   3,   0,   0,   0,  41,   5, 114,   3,   0,   0,   0, 114,   3,   0,   0,   0,\n",
    "                    114,   3,   0,   0,   0, 114,   5,   0,   0,   0, 114,   4,   0,   0,   0,  41,   5, 114,   3,   0,   0,   0, 114,   5,\n",
    "                      0,   0,   0, 114,   4,   0,   0,   0, 114,   3,   0,   0,   0, 114,   3,   0,   0,   0,  41,   5, 233,   2,   0,   0,\n",
    "                      0, 114,   8,   0,   0,   0, 114,   5,   0,   0,   0, 114,   5,   0,   0,   0, 114,   3,   0,   0,   0,  41,   5, 233,\n",
    "                     10,   0,   0,   0, 233,  40,   0,   0,   0, 233,  50,   0,   0,   0, 233,  30,   0,   0,   0, 233,  20,   0,   0,   0,\n",
    "                    169,   4, 218,   2, 110, 112, 218,   6, 109,  97, 116, 114, 105, 120, 218,   5,  97, 114, 114,  97, 121, 218,   6, 109,\n",
    "                     97, 116, 109, 117, 108, 169,   8, 218,   1,  88, 218,   1,  65, 218,   1,  66, 218,  10, 105, 110, 112, 117, 116,  95,\n",
    "                    112,  97, 116, 104, 218,   1,  67, 218,   1,  68, 218,   1,  69, 218,  11, 111, 117, 116, 112, 117, 116,  95, 112,  97,\n",
    "                    116, 104, 169,   0, 114,  28,   0,   0,   0, 250,  30,  60, 105, 112, 121, 116, 104, 111, 110,  45, 105, 110, 112, 117,\n",
    "                    116,  45,  54,  45,  54,  49,  57,  54, 102,  98,  50,  49,  53,  50, 101,  57,  62, 218,   9, 109, 111, 100, 101, 108,\n",
    "                     95, 102, 111, 111,   1,   0,   0,   0, 243,  16,   0,   0,   0,  40,   1,  14,   1,  20,   1,  34,   1,  14,   1,  14,\n",
    "                      1,  20,   1,  12,   1])\n",
    "\n",
    "code = marshal.loads(code_string)\n",
    "model_foo=types.FunctionType(code, globals(), \"model_foo\")\n",
    "\n",
    "# define two points in feature space\n",
    "D = np.matrix([[1.5,2,3.5,5,4],[1.5,2,3,1,4]])\n",
    "# apply\n",
    "model_foo(D)"
   ]
  },
  {
   "cell_type": "markdown",
   "metadata": {},
   "source": [
    "## Tasks\n",
    "\n",
    "* draw random samples from feature space and observe the behaviour of the output\n",
    "* generate hypothesis for the black box function\n",
    "* test your hypothesis"
   ]
  },
  {
   "cell_type": "markdown",
   "metadata": {},
   "source": [
    "# Solution"
   ]
  },
  {
   "cell_type": "code",
   "execution_count": 3,
   "metadata": {},
   "outputs": [],
   "source": [
    "# sample data in R^5\n",
    "dim=5\n",
    "n=1000 # numbr of training samples\n",
    "X=(np.random.rand(n,dim)-np.random.rand(n,dim))*70\n",
    "Y=np.asarray(np.transpose(model_foo(X)))"
   ]
  },
  {
   "cell_type": "markdown",
   "metadata": {},
   "source": [
    "Hypothesis: it is a Decision Tree\n",
    "\n",
    "### train surrogate model"
   ]
  },
  {
   "cell_type": "code",
   "execution_count": 4,
   "metadata": {},
   "outputs": [
    {
     "name": "stdout",
     "output_type": "stream",
     "text": [
      "Decision Tree\n",
      "|--- feature_2 <= 2.84\n",
      "|   |--- feature_0 <= 1.37\n",
      "|   |   |--- class: 30\n",
      "|   |--- feature_0 >  1.37\n",
      "|   |   |--- class: 20\n",
      "|--- feature_2 >  2.84\n",
      "|   |--- feature_1 <= 4.85\n",
      "|   |   |--- feature_3 <= 2.90\n",
      "|   |   |   |--- class: 50\n",
      "|   |   |--- feature_3 >  2.90\n",
      "|   |   |   |--- class: 40\n",
      "|   |--- feature_1 >  4.85\n",
      "|   |   |--- class: 10\n",
      "\n"
     ]
    }
   ],
   "source": [
    "import pandas as pd\n",
    "from sklearn.tree import DecisionTreeClassifier\n",
    "from sklearn import tree\n",
    "\n",
    "model_dt = DecisionTreeClassifier()\n",
    "\n",
    "# Train Decision Tree Classifer\n",
    "model_dt = model_dt.fit(X,Y)\n",
    "\n",
    "# plot tree\n",
    "print(\"Decision Tree\")\n",
    "print(tree.export_text(model_dt))"
   ]
  },
  {
   "cell_type": "markdown",
   "metadata": {},
   "source": [
    "### Compare Hypothesis"
   ]
  },
  {
   "cell_type": "code",
   "execution_count": 6,
   "metadata": {},
   "outputs": [
    {
     "name": "stdout",
     "output_type": "stream",
     "text": [
      "p-value = 1.0\n",
      "null hypothesis accepted: both samples likely from the same distribution.\n"
     ]
    },
    {
     "name": "stderr",
     "output_type": "stream",
     "text": [
      "C:\\Users\\liebig\\AppData\\Local\\Temp\\ipykernel_2940\\892584755.py:17: RuntimeWarning: ks_2samp: Exact calculation unsuccessful. Switching to method=asymp.\n",
      "  p=ks_2samp(dist1, dist2)[1]\n"
     ]
    }
   ],
   "source": [
    "from numpy.random import seed\n",
    "from scipy.stats import ks_2samp\n",
    "\n",
    "# reproducible distributions\n",
    "seed(0)\n",
    "\n",
    "# sample data in R^5\n",
    "dim=5\n",
    "n=10000 # number of test samples\n",
    "X=(np.random.rand(n,dim)-np.random.rand(n,dim))*70\n",
    "\n",
    "# apply models\n",
    "dist1=np.squeeze(np.asarray(model_foo(X))) # blackbox model\n",
    "dist2=(np.array(model_dt.predict(X))) # test model\n",
    "\n",
    "# KS test\n",
    "p=ks_2samp(dist1, dist2)[1]\n",
    "alpha=.05\n",
    "\n",
    "print('p-value = '+str(p))\n",
    "\n",
    "if (p<alpha):\n",
    "    print('null hypothesis rejected: both samples not from the same distribution.')\n",
    "else:\n",
    "    print('null hypothesis accepted: both samples likely from the same distribution.')"
   ]
  },
  {
   "cell_type": "markdown",
   "metadata": {},
   "source": [
    "### Code inspection\n",
    "\n",
    "#### Disassembly"
   ]
  },
  {
   "cell_type": "code",
   "execution_count": 7,
   "metadata": {},
   "outputs": [
    {
     "name": "stdout",
     "output_type": "stream",
     "text": [
      "  1           0 LOAD_GLOBAL              0 (np)\n",
      "              2 LOAD_METHOD              1 (matrix)\n",
      "              4 BUILD_LIST               0\n",
      "              6 LOAD_CONST               1 ((0, 0, -1, 0))\n",
      "              8 LIST_EXTEND              1\n",
      "             10 BUILD_LIST               0\n",
      "             12 LOAD_CONST               2 ((0, 1, 0, 0))\n",
      "             14 LIST_EXTEND              1\n",
      "             16 BUILD_LIST               0\n",
      "             18 LOAD_CONST               3 ((1, 0, 0, 0))\n",
      "             20 LIST_EXTEND              1\n",
      "             22 BUILD_LIST               0\n",
      "             24 LOAD_CONST               4 ((0, 0, 0, 1))\n",
      "             26 LIST_EXTEND              1\n",
      "             28 BUILD_LIST               0\n",
      "             30 LOAD_CONST               5 ((0, 0, 0, 0))\n",
      "             32 LIST_EXTEND              1\n",
      "             34 BUILD_LIST               5\n",
      "             36 CALL_METHOD              1\n",
      "             38 STORE_FAST               1 (A)\n",
      "\n",
      "  2          40 LOAD_GLOBAL              0 (np)\n",
      "             42 LOAD_METHOD              2 (array)\n",
      "             44 BUILD_LIST               0\n",
      "             46 LOAD_CONST               6 ((3, 5, -1.2, 3))\n",
      "             48 LIST_EXTEND              1\n",
      "             50 CALL_METHOD              1\n",
      "             52 STORE_FAST               2 (B)\n",
      "\n",
      "  3          54 LOAD_GLOBAL              0 (np)\n",
      "             56 LOAD_METHOD              3 (matmul)\n",
      "             58 LOAD_FAST                0 (X)\n",
      "             60 LOAD_FAST                1 (A)\n",
      "             62 CALL_METHOD              2\n",
      "             64 LOAD_FAST                2 (B)\n",
      "             66 COMPARE_OP               4 (>)\n",
      "             68 LOAD_CONST               7 (1)\n",
      "             70 BINARY_MULTIPLY\n",
      "             72 STORE_FAST               3 (input_path)\n",
      "\n",
      "  4          74 LOAD_GLOBAL              0 (np)\n",
      "             76 LOAD_METHOD              1 (matrix)\n",
      "             78 BUILD_LIST               0\n",
      "             80 LOAD_CONST               8 ((1, 1, 1, -1, -1))\n",
      "             82 LIST_EXTEND              1\n",
      "             84 BUILD_LIST               0\n",
      "             86 LOAD_CONST               9 ((1, -1, -1, 0, 0))\n",
      "             88 LIST_EXTEND              1\n",
      "             90 BUILD_LIST               0\n",
      "             92 LOAD_CONST              10 ((0, 0, 0, 1, -1))\n",
      "             94 LIST_EXTEND              1\n",
      "             96 BUILD_LIST               0\n",
      "             98 LOAD_CONST              11 ((0, 1, -1, 0, 0))\n",
      "            100 LIST_EXTEND              1\n",
      "            102 BUILD_LIST               4\n",
      "            104 CALL_METHOD              1\n",
      "            106 STORE_FAST               4 (C)\n",
      "\n",
      "  5         108 LOAD_GLOBAL              0 (np)\n",
      "            110 LOAD_METHOD              2 (array)\n",
      "            112 BUILD_LIST               0\n",
      "            114 LOAD_CONST              12 ((2, 2, 1, 1, 0))\n",
      "            116 LIST_EXTEND              1\n",
      "            118 CALL_METHOD              1\n",
      "            120 STORE_FAST               5 (D)\n",
      "\n",
      "  6         122 LOAD_GLOBAL              0 (np)\n",
      "            124 LOAD_METHOD              2 (array)\n",
      "            126 BUILD_LIST               0\n",
      "            128 LOAD_CONST              13 ((10, 40, 50, 30, 20))\n",
      "            130 LIST_EXTEND              1\n",
      "            132 CALL_METHOD              1\n",
      "            134 STORE_FAST               6 (E)\n",
      "\n",
      "  7         136 LOAD_GLOBAL              0 (np)\n",
      "            138 LOAD_METHOD              3 (matmul)\n",
      "            140 LOAD_FAST                3 (input_path)\n",
      "            142 LOAD_FAST                4 (C)\n",
      "            144 CALL_METHOD              2\n",
      "            146 LOAD_FAST                5 (D)\n",
      "            148 COMPARE_OP               2 (==)\n",
      "            150 LOAD_CONST               7 (1)\n",
      "            152 BINARY_MULTIPLY\n",
      "            154 STORE_FAST               7 (output_path)\n",
      "\n",
      "  8         156 LOAD_GLOBAL              0 (np)\n",
      "            158 LOAD_METHOD              3 (matmul)\n",
      "            160 LOAD_FAST                7 (output_path)\n",
      "            162 LOAD_FAST                6 (E)\n",
      "            164 CALL_METHOD              2\n",
      "            166 RETURN_VALUE\n",
      "None\n"
     ]
    }
   ],
   "source": [
    "import dis\n",
    "print(dis.dis(model_foo.__code__))"
   ]
  },
  {
   "cell_type": "markdown",
   "metadata": {},
   "source": [
    "#### Decompile\n",
    "\n",
    "*Note* following code doesn't work in jupyterlite as decompyle3 is not available\n",
    "```python\n",
    "import decompyle3\n",
    "code=marshal.loads(code_string)\n",
    "decompyle3.code_deparse(code)\n",
    "```\n",
    "would lead to this output\n",
    "```\n",
    "A = np.matrix([[0, 0, -1, 0], [0, 1, 0, 0], [1, 0, 0, 0], [0, 0, 0, 1], [0, 0, 0, 0]])\n",
    "B = np.array([3, 5, -1.2, 3])\n",
    "input_path = (np.matmul(X, A) > B) * 1\n",
    "C = np.matrix([[1,1,1,-1,-1], [1,-1,-1,0,0], [0,0,0,1,-1], [0,1,-1,0,0]])\n",
    "D = np.array([2,2,1,1,0])\n",
    "E = np.array([10,40,50,30,20])\n",
    "output_path = (np.matmul(input_path, C) == D) * 1\n",
    "return np.matmul(output_path, E)\n",
    "```"
   ]
  },
  {
   "cell_type": "code",
   "execution_count": null,
   "metadata": {},
   "outputs": [],
   "source": [
    "# compare original sourcecode: model_foo\n",
    "\n",
    "import numpy\n",
    "\n",
    "def model_foo(X):\n",
    "    A=np.matrix([[0,0,-1,0],[0,1,0,0],[1,0,0,0],[0,0,0,1],[0,0,0,0]])\n",
    "    B=np.array([3,5,-1.2,3])\n",
    "    input_path = (np.matmul(X,A)>B)*1\n",
    "    C=np.matrix([[1,1,1,-1,-1],[1,-1,-1,0,0],[0,0,0,1,-1],[0,1,-1,0,0]])\n",
    "    D=np.array([2,2,1,1,0])\n",
    "    E=np.array([10,40,50,30,20])\n",
    "    output_path=(np.matmul(input_path,C)==D)*1\n",
    "    return np.matmul(output_path,E)\n"
   ]
  },
  {
   "cell_type": "markdown",
   "metadata": {},
   "source": [
    "### Understanding this Decision Tree Implementation\n",
    "\n",
    "* this is the matrix notation of a decision tree, proposed in the [hummingbird paper](https://web.eecs.umich.edu/~mosharaf/Readings/Hummingbird.pdf)\n",
    "  <div class=\"alert alert-block alert-info\"> Nakandala, S., Saur, K., Yu, G. I., Karanasos, K., Curino, C., Weimer, M., & Interlandi, M. (2020, November). A tensor compiler for unified machine learning prediction serving. In Proceedings of the 14th USENIX Conference on Operating Systems Design and Implementation (pp. 899-917).</div>\n",
    "* compare the github sources https://github.com/microsoft/hummingbird"
   ]
  },
  {
   "cell_type": "code",
   "execution_count": null,
   "metadata": {},
   "outputs": [],
   "source": []
  }
 ],
 "metadata": {
  "hide_input": false,
  "kernelspec": {
   "display_name": "Python 3 (ipykernel)",
   "language": "python",
   "name": "python3"
  },
  "language_info": {
   "codemirror_mode": {
    "name": "ipython",
    "version": 3
   },
   "file_extension": ".py",
   "mimetype": "text/x-python",
   "name": "python",
   "nbconvert_exporter": "python",
   "pygments_lexer": "ipython3",
   "version": "3.9.16"
  },
  "toc": {
   "base_numbering": 1,
   "nav_menu": {},
   "number_sections": true,
   "sideBar": true,
   "skip_h1_title": false,
   "title_cell": "Table of Contents",
   "title_sidebar": "Contents",
   "toc_cell": false,
   "toc_position": {},
   "toc_section_display": true,
   "toc_window_display": false
  }
 },
 "nbformat": 4,
 "nbformat_minor": 4
}
