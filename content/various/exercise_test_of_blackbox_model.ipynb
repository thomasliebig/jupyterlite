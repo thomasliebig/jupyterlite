{
  "metadata": {
    "language_info": {
      "codemirror_mode": {
        "name": "python",
        "version": 3
      },
      "file_extension": ".py",
      "mimetype": "text/x-python",
      "name": "python",
      "nbconvert_exporter": "python",
      "pygments_lexer": "ipython3",
      "version": "3.8"
    },
    "kernelspec": {
      "name": "python",
      "display_name": "Python (Pyodide)",
      "language": "python"
    }
  },
  "nbformat_minor": 4,
  "nbformat": 4,
  "cells": [
    {
      "cell_type": "markdown",
      "source": "# Exercise: Test of blackbox AI algorithm\n Thomas Liebig, 2023",
      "metadata": {}
    },
    {
      "cell_type": "markdown",
      "source": "## Recall two-sided tests\nIn the lecture you've learned statistical tests as a method to perform test of AI algorithms. In terms of testing a blackbox model, the distribution of the expected output must be compared to actual output of the blackbox model. Thus, two probaily distributions need to be compared.\nThe Kolmogorov-Smirnov (KS) is one possibility to perform such a test. Below you find details for comparing two distributions with the KS-test. ",
      "metadata": {}
    },
    {
      "cell_type": "code",
      "source": "from scipy.stats import ks_2samp\n\nfrom numpy.random import seed\nfrom numpy.random import randn\nfrom numpy.random import lognormal\n\n# reproducible distributions\nseed(0)\n\n# generate two distributions\ndist1 = randn(100)\ndist2 = lognormal(3, 1, 100)\n\np=ks_2samp(dist1, dist2)[1]\nalpha=.05\n\nif (p<alpha):\n    print('null hypothesis rejected: both samples not from the same distribution.')\nelse:\n    print('null hypothesis accepted: both samples likely from the same distribution.')",
      "metadata": {
        "trusted": true
      },
      "execution_count": 24,
      "outputs": [
        {
          "name": "stdout",
          "text": "null hypothesis rejected: both samples not from the same distribution.\n",
          "output_type": "stream"
        }
      ]
    },
    {
      "cell_type": "markdown",
      "source": "## Task Description\nSuppose an unknown supervised model `model_foo` is given as $f:\\mathbb{R}^5\\rightarrow \\mathbb{R}^2$. ",
      "metadata": {}
    },
    {
      "cell_type": "code",
      "source": "import numpy as np\nimport types\nimport marshal\n\n# construct the secret function\ncode_string= bytes([227,   1,   0,   0,   0,   0,   0,   0,   0,   0,   0,   0,   0,   8,   0,   0,   0,   8,   0,   0,   0,  67,   0,   0,\n                      0, 243, 168,   0,   0,   0, 116,   0, 160,   1, 103,   0, 100,   1, 162,   1, 103,   0, 100,   2, 162,   1, 103,   0,\n                    100,   3, 162,   1, 103,   0, 100,   4, 162,   1, 103,   0, 100,   5, 162,   1, 103,   5, 161,   1, 125,   1, 116,   0,\n                    160,   2, 103,   0, 100,   6, 162,   1, 161,   1, 125,   2, 116,   0, 160,   3, 124,   0, 124,   1, 161,   2, 124,   2,\n                    107,   4, 100,   7,  20,   0, 125,   3, 116,   0, 160,   1, 103,   0, 100,   8, 162,   1, 103,   0, 100,   9, 162,   1,\n                    103,   0, 100,  10, 162,   1, 103,   0, 100,  11, 162,   1, 103,   4, 161,   1, 125,   4, 116,   0, 160,   2, 103,   0,\n                    100,  12, 162,   1, 161,   1, 125,   5, 116,   0, 160,   2, 103,   0, 100,  13, 162,   1, 161,   1, 125,   6, 116,   0,\n                    160,   3, 124,   3, 124,   4, 161,   2, 124,   5, 107,   2, 100,   7,  20,   0, 125,   7, 116,   0, 160,   3, 124,   7,\n                    124,   6, 161,   2,  83,   0, 169,  14,  78,  41,   4, 233,   0,   0,   0,   0, 114,   3,   0,   0,   0, 233, 255, 255,\n                    255, 255, 114,   3,   0,   0,   0,  41,   4, 114,   3,   0,   0,   0, 233,   1,   0,   0,   0, 114,   3,   0,   0,   0,\n                    114,   3,   0,   0,   0,  41,   4, 114,   5,   0,   0,   0, 114,   3,   0,   0,   0, 114,   3,   0,   0,   0, 114,   3,\n                      0,   0,   0,  41,   4, 114,   3,   0,   0,   0, 114,   3,   0,   0,   0, 114,   3,   0,   0,   0, 114,   5,   0,   0,\n                      0,  41,   4, 114,   3,   0,   0,   0, 114,   3,   0,   0,   0, 114,   3,   0,   0,   0, 114,   3,   0,   0,   0,  41,\n                      4, 233,   3,   0,   0,   0, 233,   5,   0,   0,   0, 103,  51,  51,  51,  51,  51,  51, 243, 191, 114,   6,   0,   0,\n                      0, 114,   5,   0,   0,   0,  41,   5, 114,   5,   0,   0,   0, 114,   5,   0,   0,   0, 114,   5,   0,   0,   0, 114,\n                      4,   0,   0,   0, 114,   4,   0,   0,   0,  41,   5, 114,   5,   0,   0,   0, 114,   4,   0,   0,   0, 114,   4,   0,\n                      0,   0, 114,   3,   0,   0,   0, 114,   3,   0,   0,   0,  41,   5, 114,   3,   0,   0,   0, 114,   3,   0,   0,   0,\n                    114,   3,   0,   0,   0, 114,   5,   0,   0,   0, 114,   4,   0,   0,   0,  41,   5, 114,   3,   0,   0,   0, 114,   5,\n                      0,   0,   0, 114,   4,   0,   0,   0, 114,   3,   0,   0,   0, 114,   3,   0,   0,   0,  41,   5, 233,   2,   0,   0,\n                      0, 114,   8,   0,   0,   0, 114,   5,   0,   0,   0, 114,   5,   0,   0,   0, 114,   3,   0,   0,   0,  41,   5, 233,\n                     10,   0,   0,   0, 233,  40,   0,   0,   0, 233,  50,   0,   0,   0, 233,  30,   0,   0,   0, 233,  20,   0,   0,   0,\n                    169,   4, 218,   2, 110, 112, 218,   6, 109,  97, 116, 114, 105, 120, 218,   5,  97, 114, 114,  97, 121, 218,   6, 109,\n                     97, 116, 109, 117, 108, 169,   8, 218,   1,  88, 218,   1,  65, 218,   1,  66, 218,  10, 105, 110, 112, 117, 116,  95,\n                    112,  97, 116, 104, 218,   1,  67, 218,   1,  68, 218,   1,  69, 218,  11, 111, 117, 116, 112, 117, 116,  95, 112,  97,\n                    116, 104, 169,   0, 114,  28,   0,   0,   0, 250,  30,  60, 105, 112, 121, 116, 104, 111, 110,  45, 105, 110, 112, 117,\n                    116,  45,  54,  45,  54,  49,  57,  54, 102,  98,  50,  49,  53,  50, 101,  57,  62, 218,   9, 109, 111, 100, 101, 108,\n                     95, 102, 111, 111,   1,   0,   0,   0, 243,  16,   0,   0,   0,  40,   1,  14,   1,  20,   1,  34,   1,  14,   1,  14,\n                      1,  20,   1,  12,   1])\n\ncode = marshal.loads(code_string)\nmodel_foo=types.FunctionType(code, globals(), \"model_foo\")\n\n# define two points in feature space\nD = np.matrix([[1.5,2,3.5,5,4],[1.5,2,3,1,4]])\n# apply\nmodel_foo(D)",
      "metadata": {
        "trusted": true
      },
      "execution_count": 16,
      "outputs": [
        {
          "execution_count": 16,
          "output_type": "execute_result",
          "data": {
            "text/plain": "matrix([[40, 20]])"
          },
          "metadata": {}
        }
      ]
    },
    {
      "cell_type": "markdown",
      "source": "## Tasks\n\n* draw random samples from feature space and observe the behaviour of the output\n* generate hypothesis for the black box function\n* test your hypothesis",
      "metadata": {}
    }
  ]
}
